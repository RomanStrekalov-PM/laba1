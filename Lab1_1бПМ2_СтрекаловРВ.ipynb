{
 "cells": [
  {
   "cell_type": "code",
   "execution_count": null,
   "metadata": {},
   "outputs": [],
   "source": [
    "# Лабораторная работа №1\n",
    "## Выполнил студент группы 1бПМ2 СтрекаловРВ\n",
    "### Задание №1\n",
    "# Поздороваться с миром"
   ]
  },
  {
   "cell_type": "code",
   "execution_count": 198,
   "metadata": {},
   "outputs": [
    {
     "name": "stdout",
     "output_type": "stream",
     "text": [
      "Hello, World!\n"
     ]
    }
   ],
   "source": [
    " print(\"Hello, World!\")"
   ]
  },
  {
   "cell_type": "code",
   "execution_count": 199,
   "metadata": {},
   "outputs": [],
   "source": [
    "#Задание №2 \n",
    "# Написать генератор случайных матриц"
   ]
  },
  {
   "cell_type": "code",
   "execution_count": 200,
   "metadata": {},
   "outputs": [
    {
     "name": "stdout",
     "output_type": "stream",
     "text": [
      "Введите число строк: 10\n",
      "Введите число столбцов: 10\n",
      "Введите min элементов: 1\n",
      "Введите max элементов: 10\n",
      "10 10 1 10\n",
      "[[ 3.  2.  3.  5.  6.  6.  4.  3.  7.  5.]\n",
      " [ 3.  8.  1. 10.  2.  2.  4.  3.  9.  9.]\n",
      " [10.  8.  7.  8.  9. 10.  6.  7.  2.  5.]\n",
      " [ 9.  8.  2.  9.  8.  9.  9.  3.  3.  5.]\n",
      " [ 4.  2.  3.  6.  6.  2.  7. 10.  8.  9.]\n",
      " [ 8.  7.  6.  3.  8.  9.  9.  6.  1. 10.]\n",
      " [10.  9.  4.  9.  6.  5.  4.  1.  6.  6.]\n",
      " [ 7.  8.  6.  3.  5.  9.  8.  9.  5. 10.]\n",
      " [10.  9.  5.  2. 10.  1.  6.  2.  2.  6.]\n",
      " [ 7.  2.  8.  9.  6.  6.  8.  6.  4.  3.]]\n"
     ]
    }
   ],
   "source": [
    "import numpy as np \n",
    "import random\n",
    "import copy\n",
    "\n",
    "m = input(\"Введите число строк: \")\n",
    "n = input(\"Введите число столбцов: \")\n",
    "min_lim = input(\"Введите min элементов: \")\n",
    "max_lim = input(\"Введите max элементов: \")\n",
    "\n",
    "def check(num):\n",
    "    try:\n",
    "        int(num)\n",
    "        return True\n",
    "    except ValueError:\n",
    "        return False \n",
    "\n",
    "if (check(m) == False):\n",
    "    m = 50;\n",
    "if (check(n) == False):\n",
    "    n = 50;\n",
    "if (check(min_lim) == False):\n",
    "    min_lim = -250;\n",
    "if (check(max_lim) == False):\n",
    "    max_lim = 1010;\n",
    "    \n",
    "m = int(m); n = int(n); min_lim = int(min_lim); max_lim = int(max_lim);\n",
    "    \n",
    "print (m,n,min_lim,max_lim)\n",
    "\n",
    "def creatMarix():\n",
    "    matrix = np.zeros([int(m),int(n)])\n",
    "    for i in range(int(m)):\n",
    "        for j in range(int(n)):\n",
    "            matrix[i][j] = round(random.random() * (max_lim - min_lim) + min_lim)\n",
    "    return matrix\n",
    "    \n",
    "MATRIX = creatMarix()\n",
    "print (MATRIX)\n",
    "\n",
    "matrix_2 = copy.deepcopy(MATRIX);\n",
    "matrix0 = copy.deepcopy(MATRIX); \n",
    "matrix1 = copy.deepcopy(MATRIX);"
   ]
  },
  {
   "cell_type": "code",
   "execution_count": 201,
   "metadata": {},
   "outputs": [],
   "source": [
    "#Задание №3 \n",
    "#Реализовать методы сортировки строк числовой матрицы в соответствии с заданием"
   ]
  },
  {
   "cell_type": "code",
   "execution_count": 202,
   "metadata": {},
   "outputs": [
    {
     "name": "stdout",
     "output_type": "stream",
     "text": [
      "[[ 3.  2.  3.  5.  6.  6.  4.  3.  7.  5.]\n",
      " [ 3.  8.  1. 10.  2.  2.  4.  3.  9.  9.]\n",
      " [10.  8.  7.  8.  9. 10.  6.  7.  2.  5.]\n",
      " [ 9.  8.  2.  9.  8.  9.  9.  3.  3.  5.]\n",
      " [ 4.  2.  3.  6.  6.  2.  7. 10.  8.  9.]\n",
      " [ 8.  7.  6.  3.  8.  9.  9.  6.  1. 10.]\n",
      " [10.  9.  4.  9.  6.  5.  4.  1.  6.  6.]\n",
      " [ 7.  8.  6.  3.  5.  9.  8.  9.  5. 10.]\n",
      " [10.  9.  5.  2. 10.  1.  6.  2.  2.  6.]\n",
      " [ 7.  2.  8.  9.  6.  6.  8.  6.  4.  3.]] \n",
      "\n",
      "[[ 2.  3.  3.  3.  4.  5.  5.  6.  6.  7.]\n",
      " [ 1.  2.  2.  3.  3.  4.  8.  9.  9. 10.]\n",
      " [ 2.  5.  6.  7.  7.  8.  8.  9. 10. 10.]\n",
      " [ 2.  3.  3.  5.  8.  8.  9.  9.  9.  9.]\n",
      " [ 2.  2.  3.  4.  6.  6.  7.  8.  9. 10.]\n",
      " [ 1.  3.  6.  6.  7.  8.  8.  9.  9. 10.]\n",
      " [ 1.  4.  4.  5.  6.  6.  6.  9.  9. 10.]\n",
      " [ 3.  5.  5.  6.  7.  8.  8.  9.  9. 10.]\n",
      " [ 1.  2.  2.  2.  5.  6.  6.  9. 10. 10.]\n",
      " [ 2.  3.  4.  6.  6.  6.  7.  8.  8.  9.]] \n",
      "\n",
      "Время выполнения :  0.0040018558502197266\n"
     ]
    }
   ],
   "source": [
    "import copy\n",
    "import time\n",
    "\n",
    "stime = time.time()\n",
    "\n",
    "#сортировка выбором\n",
    "def sorting_by_choice(array):\n",
    "    for i in range(m):\n",
    "        for j in range(n):\n",
    "            p = j \n",
    "            k = j + 1\n",
    "            while k < n:\n",
    "                if array[i][k] < array[i][p]:\n",
    "                    p = k\n",
    "                k += 1\n",
    "            array[i][j], array[i][p] = array[i][p], array[i][j]   \n",
    "            \n",
    "#Просто матрицы\n",
    "print(MATRIX, \"\\n\")\n",
    "sort1 = copy.deepcopy(MATRIX);\n",
    "\n",
    "#сортировка выбором\n",
    "sorting_by_choice(sort1)\n",
    "print(sort1, \"\\n\")\n",
    "\n",
    "print(\"Время выполнения : \", time.time() - stime)"
   ]
  },
  {
   "cell_type": "code",
   "execution_count": 203,
   "metadata": {},
   "outputs": [
    {
     "name": "stdout",
     "output_type": "stream",
     "text": [
      "[[ 3.  2.  3.  5.  6.  6.  4.  3.  7.  5.]\n",
      " [ 3.  8.  1. 10.  2.  2.  4.  3.  9.  9.]\n",
      " [10.  8.  7.  8.  9. 10.  6.  7.  2.  5.]\n",
      " [ 9.  8.  2.  9.  8.  9.  9.  3.  3.  5.]\n",
      " [ 4.  2.  3.  6.  6.  2.  7. 10.  8.  9.]\n",
      " [ 8.  7.  6.  3.  8.  9.  9.  6.  1. 10.]\n",
      " [10.  9.  4.  9.  6.  5.  4.  1.  6.  6.]\n",
      " [ 7.  8.  6.  3.  5.  9.  8.  9.  5. 10.]\n",
      " [10.  9.  5.  2. 10.  1.  6.  2.  2.  6.]\n",
      " [ 7.  2.  8.  9.  6.  6.  8.  6.  4.  3.]] \n",
      "\n",
      "[[ 2.  3.  3.  3.  4.  5.  5.  6.  6.  7.]\n",
      " [ 1.  2.  2.  3.  3.  4.  8.  9.  9. 10.]\n",
      " [ 2.  5.  6.  7.  7.  8.  8.  9. 10. 10.]\n",
      " [ 2.  3.  3.  5.  8.  8.  9.  9.  9.  9.]\n",
      " [ 2.  2.  3.  4.  6.  6.  7.  8.  9. 10.]\n",
      " [ 1.  3.  6.  6.  7.  8.  8.  9.  9. 10.]\n",
      " [ 1.  4.  4.  5.  6.  6.  6.  9.  9. 10.]\n",
      " [ 3.  5.  5.  6.  7.  8.  8.  9.  9. 10.]\n",
      " [ 1.  2.  2.  2.  5.  6.  6.  9. 10. 10.]\n",
      " [ 2.  3.  4.  6.  6.  6.  7.  8.  8.  9.]] \n",
      "\n",
      "Время выполнения :  0.004000425338745117\n"
     ]
    }
   ],
   "source": [
    "#сортировка вставкой\n",
    "\n",
    "stime = time.time()\n",
    "\n",
    "def insert_sorting(data):\n",
    "    for i in range(m):\n",
    "        for j in range(n):\n",
    "            k = j - 1 \n",
    "            key = data[i][j]\n",
    "            while data[i][k] > key and k >= 0:\n",
    "                data[i][k + 1] = data[i][k]\n",
    "                k -= 1\n",
    "            data[i][k + 1] = key\n",
    "    return data\n",
    "            \n",
    "#сортировка вставкой \n",
    "print(MATRIX, \"\\n\")\n",
    "insert_sorting(matrix1)\n",
    "print(matrix1, \"\\n\")\n",
    "\n",
    "print(\"Время выполнения : \", time.time() - stime)"
   ]
  },
  {
   "cell_type": "code",
   "execution_count": 204,
   "metadata": {},
   "outputs": [
    {
     "name": "stdout",
     "output_type": "stream",
     "text": [
      "[3. 2. 3. 5. 6. 6. 4. 3. 7. 5.] \n",
      "\n",
      "[2.0, 3.0, 3.0, 3.0, 4.0, 5.0, 5.0, 6.0, 6.0, 7.0] \n",
      "\n",
      "Время выполнения :  0.002001523971557617\n"
     ]
    }
   ],
   "source": [
    "#сортировка обменом\n",
    "\n",
    "stime = time.time()\n",
    "\n",
    "def merge(left_list, right_list):  \n",
    "    sorted_list = []\n",
    "    left_list_index = right_list_index = 0\n",
    "    left_list_length, right_list_length = len(left_list), len(right_list)\n",
    "    for _ in range(left_list_length + right_list_length):\n",
    "        if left_list_index < left_list_length and right_list_index < right_list_length:\n",
    "            if left_list[left_list_index] <= right_list[right_list_index]:\n",
    "                sorted_list.append(left_list[left_list_index])\n",
    "                left_list_index += 1\n",
    "            else:\n",
    "                sorted_list.append(right_list[right_list_index])\n",
    "                right_list_index += 1\n",
    "        elif left_list_index == left_list_length:\n",
    "            sorted_list.append(right_list[right_list_index])\n",
    "            right_list_index += 1\n",
    "        elif right_list_index == right_list_length:\n",
    "            sorted_list.append(left_list[left_list_index])\n",
    "            left_list_index += 1\n",
    "    return sorted_list\n",
    "\n",
    "\n",
    "def merge_sort(nums):  \n",
    "    if len(nums) <= 1:\n",
    "        return nums \n",
    "    mid = len(nums) // 2\n",
    "    left_list = merge_sort(nums[:mid])\n",
    "    right_list = merge_sort(nums[mid:])\n",
    "    return merge(left_list, right_list)\n",
    "\n",
    "#сортировка обменом\n",
    "list0 = copy.deepcopy(MATRIX[:][0])\n",
    "print(list0, \"\\n\")\n",
    "list0 = merge_sort(list0)  \n",
    "print(list0, \"\\n\")\n",
    "\n",
    "\n",
    "print(\"Время выполнения : \", time.time() - stime)"
   ]
  },
  {
   "cell_type": "code",
   "execution_count": 205,
   "metadata": {},
   "outputs": [
    {
     "name": "stdout",
     "output_type": "stream",
     "text": [
      "[3. 2. 3. 5. 6. 6. 4. 3. 7. 5.] \n",
      "\n",
      "[2. 3. 3. 3. 4. 5. 5. 6. 6. 7.] \n",
      "\n",
      "Время выполнения :  0.0009982585906982422\n"
     ]
    }
   ],
   "source": [
    "#сортировка Шелла\n",
    "\n",
    "stime = time.time()\n",
    "\n",
    "def shell(seq):\n",
    "    inc = len(seq) // 2\n",
    "    while inc:\n",
    "        for i, el in enumerate(seq):\n",
    "            while i >= inc and seq[i - inc] > el:\n",
    "                seq[i] = seq[i - inc]\n",
    "                i -= inc\n",
    "            seq[i] = el\n",
    "        inc = 1 if inc == 2 else int(inc * 5.0 / 11)\n",
    "        \n",
    "#сортировка Шелла\n",
    "data = copy.deepcopy(MATRIX[:][0])\n",
    "print (data, \"\\n\")\n",
    "shell(data)\n",
    "print (data, \"\\n\")\n",
    "\n",
    "print(\"Время выполнения : \", time.time() - stime)"
   ]
  },
  {
   "cell_type": "code",
   "execution_count": 206,
   "metadata": {},
   "outputs": [
    {
     "name": "stdout",
     "output_type": "stream",
     "text": [
      "[3. 2. 3. 5. 6. 6. 4. 3. 7. 5.] \n",
      "\n",
      "[2. 3. 3. 3. 4. 5. 5. 6. 6. 7.] \n",
      "\n",
      "Время выполнения :  0.002002239227294922\n"
     ]
    }
   ],
   "source": [
    "#Быстрая сортировка    \n",
    "\n",
    "stime = time.time()\n",
    "\n",
    "def partition(nums, low, high):  \n",
    "    pivot = nums[(low + high) // 2]\n",
    "    i = low - 1\n",
    "    j = high + 1\n",
    "    while True:\n",
    "        i += 1\n",
    "        while nums[i] < pivot:\n",
    "            i += 1\n",
    "\n",
    "        j -= 1\n",
    "        while nums[j] > pivot:\n",
    "            j -= 1\n",
    "\n",
    "        if i >= j:\n",
    "            return j\n",
    "\n",
    "        nums[i], nums[j] = nums[j], nums[i]\n",
    "\n",
    "def quick_sort(nums):  \n",
    "    def _quick_sort(items, low, high):\n",
    "        if low < high:\n",
    "            split_index = partition(items, low, high)\n",
    "            _quick_sort(items, low, split_index)\n",
    "            _quick_sort(items, split_index + 1, high)\n",
    "\n",
    "    _quick_sort(nums, 0, len(nums) - 1)\n",
    "        \n",
    "#Быстрая сортировка    \n",
    "quick = copy.deepcopy(MATRIX[:][0])\n",
    "print(quick, \"\\n\")\n",
    "quick_sort(quick)\n",
    "print(quick, \"\\n\")\n",
    "\n",
    "print(\"Время выполнения : \", time.time() - stime)"
   ]
  },
  {
   "cell_type": "code",
   "execution_count": 207,
   "metadata": {},
   "outputs": [
    {
     "name": "stdout",
     "output_type": "stream",
     "text": [
      "[3. 2. 3. 5. 6. 6. 4. 3. 7. 5.] \n",
      "\n",
      "[2. 3. 3. 3. 4. 5. 5. 6. 6. 7.] \n",
      "\n",
      "Время выполнения :  0.0020012855529785156\n"
     ]
    }
   ],
   "source": [
    "#Пирамидальная сортировка\n",
    "\n",
    "stime = time.time()\n",
    "\n",
    "def heapify(nums, heap_size, root_index):  \n",
    "    largest = root_index\n",
    "    left_child = (2 * root_index) + 1\n",
    "    right_child = (2 * root_index) + 2\n",
    "\n",
    "    if left_child < heap_size and nums[left_child] > nums[largest]:\n",
    "        largest = left_child\n",
    "\n",
    "    if right_child < heap_size and nums[right_child] > nums[largest]:\n",
    "        largest = right_child\n",
    "\n",
    "    if largest != root_index:\n",
    "        nums[root_index], nums[largest] = nums[largest], nums[root_index]\n",
    "        heapify(nums, heap_size, largest)\n",
    "\n",
    "def heap_sort(nums):  \n",
    "    n = len(nums)\n",
    "    for i in range(n, -1, -1):\n",
    "        heapify(nums, n, i)\n",
    "\n",
    "    for i in range(n - 1, 0, -1):\n",
    "        nums[i], nums[0] = nums[0], nums[i]\n",
    "        heapify(nums, i, 0)\n",
    "        \n",
    "#Пирамидальная сортировка\n",
    "list1 = copy.deepcopy(MATRIX[:][0])\n",
    "print(list1, \"\\n\")\n",
    "heap_sort(list1)  \n",
    "print(list1, \"\\n\")\n",
    "\n",
    "print(\"Время выполнения : \", time.time() - stime)"
   ]
  },
  {
   "cell_type": "code",
   "execution_count": 208,
   "metadata": {},
   "outputs": [
    {
     "name": "stdout",
     "output_type": "stream",
     "text": [
      "[3. 2. 3. 5. 6. 6. 4. 3. 7. 5.] \n",
      "\n",
      "[2. 3. 3. 3. 4. 5. 5. 6. 6. 7.] \n",
      "\n",
      "Время выполнения :  0.0030019283294677734\n"
     ]
    }
   ],
   "source": [
    "#турнирная сортировка\n",
    "\n",
    "stime = time.time()\n",
    "\n",
    "def heapify(arr, n, i):\n",
    "    largest = i \n",
    "    l = 2 * i + 1   \n",
    "    r = 2 * i + 2   \n",
    "\n",
    "    if l < n and arr[i] < arr[l]:\n",
    "        largest = l\n",
    "\n",
    "    if r < n and arr[largest] < arr[r]:\n",
    "        largest = r\n",
    "\n",
    "    if largest != i:\n",
    "        arr[i],arr[largest] = arr[largest],arr[i] \n",
    "\n",
    "        heapify(arr, n, largest)\n",
    "\n",
    "def heapSort(arr):\n",
    "    n = len(arr)\n",
    "\n",
    "    for i in range(n, -1, -1):\n",
    "        heapify(arr, n, i)\n",
    "\n",
    "    for i in range(n-1, 0, -1):\n",
    "        arr[i], arr[0] = arr[0], arr[i]  \n",
    "        heapify(arr, i, 0)\n",
    "        \n",
    "#турнирная сортировка\n",
    "arr = copy.deepcopy(MATRIX[:][0])\n",
    "print (arr, \"\\n\")\n",
    "heapSort(arr)\n",
    "n = len(arr)\n",
    "print (arr, \"\\n\")\n",
    "\n",
    "print(\"Время выполнения : \", time.time() - stime)"
   ]
  },
  {
   "cell_type": "code",
   "execution_count": null,
   "metadata": {},
   "outputs": [],
   "source": []
  }
 ],
 "metadata": {
  "kernelspec": {
   "display_name": "Python 3",
   "language": "python",
   "name": "python3"
  },
  "language_info": {
   "codemirror_mode": {
    "name": "ipython",
    "version": 3
   },
   "file_extension": ".py",
   "mimetype": "text/x-python",
   "name": "python",
   "nbconvert_exporter": "python",
   "pygments_lexer": "ipython3",
   "version": "3.8.5"
  }
 },
 "nbformat": 4,
 "nbformat_minor": 4
}
